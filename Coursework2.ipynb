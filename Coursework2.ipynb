{
 "cells": [
  {
   "cell_type": "markdown",
   "id": "ba49b24a",
   "metadata": {},
   "source": [
    "# Coursework 2 QRM"
   ]
  },
  {
   "cell_type": "markdown",
   "id": "0161c336",
   "metadata": {},
   "source": [
    "### Q1 part A: Fitting a GARCH(1,1) model to the trainning data"
   ]
  },
  {
   "cell_type": "code",
   "execution_count": 3,
   "id": "dc597869",
   "metadata": {
    "scrolled": true
   },
   "outputs": [
    {
     "name": "stdout",
     "output_type": "stream",
     "text": [
      "Iteration:      5,   Func. Count:     32,   Neg. LLF: 6895.1504409974\n",
      "Iteration:     10,   Func. Count:     64,   Neg. LLF: 6571.569532847754\n",
      "Optimization terminated successfully    (Exit mode 0)\n",
      "            Current function value: 6571.568723403154\n",
      "            Iterations: 12\n",
      "            Function evaluations: 74\n",
      "            Gradient evaluations: 12\n",
      "                     Constant Mean - GARCH Model Results                      \n",
      "==============================================================================\n",
      "Dep. Variable:              logreturn   R-squared:                       0.000\n",
      "Mean Model:             Constant Mean   Adj. R-squared:                  0.000\n",
      "Vol Model:                      GARCH   Log-Likelihood:               -6571.57\n",
      "Distribution:                  Normal   AIC:                           13151.1\n",
      "Method:            Maximum Likelihood   BIC:                           13174.5\n",
      "                                        No. Observations:                 2518\n",
      "Date:                Fri, Dec 02 2022   Df Residuals:                     2517\n",
      "Time:                        19:38:22   Df Model:                            1\n",
      "                                Mean Model                                \n",
      "==========================================================================\n",
      "                 coef    std err          t      P>|t|    95.0% Conf. Int.\n",
      "--------------------------------------------------------------------------\n",
      "mu             0.1247  6.211e-02      2.008  4.467e-02 [2.966e-03,  0.246]\n",
      "                              Volatility Model                              \n",
      "============================================================================\n",
      "                 coef    std err          t      P>|t|      95.0% Conf. Int.\n",
      "----------------------------------------------------------------------------\n",
      "omega          0.1322  6.762e-02      1.955  5.055e-02  [-3.181e-04,  0.265]\n",
      "alpha[1]       0.0406  1.162e-02      3.493  4.775e-04 [1.782e-02,6.338e-02]\n",
      "beta[1]        0.9497  1.496e-02     63.494      0.000     [  0.920,  0.979]\n",
      "============================================================================\n",
      "\n",
      "Covariance estimator: robust\n"
     ]
    }
   ],
   "source": [
    "import math\n",
    "import numpy as np\n",
    "import pandas as pd\n",
    "import matplotlib.pyplot as plt\n",
    "import seaborn as sns\n",
    "import matplotlib.dates as mdates\n",
    "import scipy.stats as ss\n",
    "import statsmodels.api as sm #For acf plots\n",
    "from arch.univariate import arch_model #We import the arch package to fit the time series model\n",
    "from scipy.stats import skew, kurtosis, norm,t # to use the generalised Student-t pdf\n",
    "from scipy.optimize import minimize #import minimize function from SciPy\n",
    "#We upload the data\n",
    "TSLAdata = pd.read_csv(r'C:\\Users\\Alberto\\Documents\\0 UNIVERSIDAD\\MSC Imperial\\QUANTITATIVE RISK MANAGEMENT\\COURSEWORK 2\\QRM-2022-cw2-data.csv')\n",
    "TSLAdata['Date'] = pd.to_datetime(TSLAdata['Date'])\n",
    "TSLAdata.sort_values(by='Date', ascending=True)\n",
    "TSLAdata.set_index('Date', inplace=True)\n",
    "\n",
    "#We create the simple and log returns in our panda frame\n",
    "TSLAdata['simplereturn'] = TSLAdata['TSLA'].pct_change()\n",
    "TSLAdata['logreturn'] = np.log(TSLAdata['TSLA']).diff()\n",
    "#TSLAdata['logreturn'] = np.log(1 + TSLAdata['simplereturn'])\n",
    "\n",
    "# Multiply the return values by 100 so they represent percentage values\n",
    "TSLAdata['simplereturn']  = TSLAdata['simplereturn']  * 100\n",
    "TSLAdata['logreturn'] = TSLAdata['logreturn'] * 100\n",
    "\n",
    "#Calculation of parameters asked\n",
    "mu = TSLAdata['logreturn'].mean()\n",
    "sigma = TSLAdata['logreturn'].std()\n",
    "\n",
    "TSLAdata.head()\n",
    "\n",
    "# Select DataFrame rows between two dates\n",
    "start_date_train = '2012-11-26'\n",
    "end_date_train   = '2021-11-25'\n",
    "TSLAdata_train = TSLAdata.query('Date >= @start_date_train and Date <= @end_date_train')\n",
    "\n",
    "start_date_test = '2021-11-26'\n",
    "end_date_test   = '2022-11-26'\n",
    "TSLAdata_test = TSLAdata.query('Date >= @start_date_test and Date <= @end_date_test')\n",
    "\n",
    "garchmodel = arch_model(TSLAdata['logreturn'].dropna(), mean='constant', rescale= 'True', p=1, q=1, dist='normal')\n",
    "resgarch = garchmodel.fit(update_freq=5)\n",
    "print(resgarch.summary())"
   ]
  },
  {
   "cell_type": "code",
   "execution_count": 4,
   "id": "68ea4705",
   "metadata": {
    "scrolled": false
   },
   "outputs": [
    {
     "data": {
      "image/png": "[encoded data removed]",
      "text/plain": [
       "<Figure size 432x288 with 1 Axes>"
      ]
     },
     "metadata": {
      "needs_background": "light"
     },
     "output_type": "display_data"
    },
    {
     "data": {
      "image/png": "[encoded data removed]",
      "text/plain": [
       "<Figure size 432x288 with 1 Axes>"
      ]
     },
     "metadata": {
      "needs_background": "light"
     },
     "output_type": "display_data"
    },
    {
     "name": "stdout",
     "output_type": "stream",
     "text": [
      "0.007521575290248952\n",
      "0.9997464802212903\n"
     ]
    }
   ],
   "source": [
    "my_color = 'b'\n",
    "sm.graphics.tsa.plot_acf(resgarch.std_resid, lags=50,color=my_color, vlines_kwargs={\"colors\": my_color},\n",
    "                         title=\"ACF of residues\")\n",
    "plt.show()\n",
    "sm.graphics.tsa.plot_acf(np.abs(resgarch.std_resid).dropna(), lags=50,color=my_color, vlines_kwargs={\"colors\": my_color},\n",
    "                         title=\"ACF of absolute residues\")\n",
    "plt.show()\n",
    "\n",
    "print(resgarch.std_resid.mean())\n",
    "print(resgarch.std_resid.std())"
   ]
  },
  {
   "cell_type": "markdown",
   "id": "16f8c1f6",
   "metadata": {},
   "source": [
    "The hypothesis of independent seems feasible enough"
   ]
  },
  {
   "cell_type": "markdown",
   "id": "0b3f3683",
   "metadata": {},
   "source": [
    "### Q1 part B: Fitting a normalised student t-distribution"
   ]
  },
  {
   "cell_type": "markdown",
   "id": "2cba1b15",
   "metadata": {},
   "source": [
    "As another exercise, let's fit a student normalised distribution to $(Z_t)_t$. A **normalised Student-t distribution** with degree of freedom $\\nu$ and **unit variance**, which pdf is $$f_Z(z)=f_{general-t-dist}\\left(z;\\text{df}=\\nu,\\text{location}=0,\\text{scale}=\\sqrt{\\frac{\\nu-2}{\\nu}}\\right)$$ where $f_{general-t-dist}$ is the pdf of a generalised t distribution with degree of freedom $\\nu$ and some location and scale parameter.\n",
    "\n",
    "REMARK: a standard Student-t distribution with degree of freedom $\\nu$ has variance $\\nu/(\\nu-2)$ but not one. If $Y$ is a standard Student-t distribution, we need to construct $Z$ in form of $Z=\\sqrt{\\frac{\\nu-2}{\\nu}} Y$ to enforce $var(Z)=1$. Hence $Z$ can be thought as a general t-distribution with location parameter of zero and scale parameter of $\\sqrt{\\frac{\\nu-2}{\\nu}}$.\n",
    "\n",
    "We will use (log-)maximum likelihood for this purposes:"
   ]
  },
  {
   "cell_type": "code",
   "execution_count": 115,
   "id": "d48ebdfb",
   "metadata": {
    "scrolled": false
   },
   "outputs": [
    {
     "name": "stdout",
     "output_type": "stream",
     "text": [
      "(3.733591881428594, 0.015436259447195327, 0.7028807797475118)\n"
     ]
    },
    {
     "data": {
      "text/plain": [
       "3.733591881428594"
      ]
     },
     "execution_count": 115,
     "metadata": {},
     "output_type": "execute_result"
    }
   ],
   "source": [
    "#This is just an attempt to use a package, it does not seem to work\n",
    "from scipy import stats\n",
    "dist = getattr(stats, 't')\n",
    "parameters = dist.fit(resgarch.std_resid.dropna())\n",
    "print(parameters)\n",
    "\n",
    "student_fittet = parameters[0]*\n"
   ]
  },
  {
   "cell_type": "code",
   "execution_count": null,
   "id": "0bc6a25e",
   "metadata": {},
   "outputs": [],
   "source": [
    "#Requires the distribution t previously loaded\n",
    "def log_likelihood_function_t(nu, x):\n",
    "    return np.sum(np.log(t.pdf(x[1:], nu, 0, np.sqrt((nu-2)/nu)) ) ) \n",
    "\n",
    "objfun_loglikelihood_t = lambda y : -1 * log_likelihood_function_t(y, resgarch.std_resid.dropna())\n",
    "\n",
    "y0 = 2.1\n",
    "\n",
    "print(\"Initial objective function value: \" + str(objfun_loglikelihood_t(y0)))\n",
    "bnds = (0,np.inf)\n",
    "con = {'type': 'ineq'} \n",
    "\n",
    "sol_loglikelihood = minimize(objfun_loglikelihood_t, y0 ,method='SLSQP',bounds=bnds, options={'disp': True})\n",
    "\n",
    "print(\"Estimate of nu: \" + str(sol_loglikelihood.x[0]))\n",
    "print(\"Solution->\",sol_loglikelihood)"
   ]
  },
  {
   "cell_type": "markdown",
   "id": "6bcb2539",
   "metadata": {},
   "source": [
    "Once the parameter of degreees of freedom is obtained we simply draw a histogram and qqplots with that student t and see if it is a good fit."
   ]
  },
  {
   "cell_type": "markdown",
   "id": "71c884e8",
   "metadata": {},
   "source": [
    "### Q1 part C: generalised Pareto distribution (GPD)"
   ]
  },
  {
   "cell_type": "code",
   "execution_count": 110,
   "id": "bd9ff368",
   "metadata": {
    "scrolled": true
   },
   "outputs": [
    {
     "data": {
      "text/html": [
       "<div>\n",
       "<style scoped>\n",
       "    .dataframe tbody tr th:only-of-type {\n",
       "        vertical-align: middle;\n",
       "    }\n",
       "\n",
       "    .dataframe tbody tr th {\n",
       "        vertical-align: top;\n",
       "    }\n",
       "\n",
       "    .dataframe thead th {\n",
       "        text-align: right;\n",
       "    }\n",
       "</style>\n",
       "<table border=\"1\" class=\"dataframe\">\n",
       "  <thead>\n",
       "    <tr style=\"text-align: right;\">\n",
       "      <th></th>\n",
       "      <th>TSLA</th>\n",
       "      <th>simplereturn</th>\n",
       "      <th>logreturn</th>\n",
       "      <th>std_residuals</th>\n",
       "    </tr>\n",
       "    <tr>\n",
       "      <th>Date</th>\n",
       "      <th></th>\n",
       "      <th></th>\n",
       "      <th></th>\n",
       "      <th></th>\n",
       "    </tr>\n",
       "  </thead>\n",
       "  <tbody>\n",
       "    <tr>\n",
       "      <th>2012-11-26</th>\n",
       "      <td>2.151333</td>\n",
       "      <td>NaN</td>\n",
       "      <td>NaN</td>\n",
       "      <td>NaN</td>\n",
       "    </tr>\n",
       "    <tr>\n",
       "      <th>2012-11-27</th>\n",
       "      <td>2.143333</td>\n",
       "      <td>-0.371862</td>\n",
       "      <td>-0.372556</td>\n",
       "      <td>-0.270666</td>\n",
       "    </tr>\n",
       "    <tr>\n",
       "      <th>2012-11-28</th>\n",
       "      <td>2.215333</td>\n",
       "      <td>3.359254</td>\n",
       "      <td>3.304064</td>\n",
       "      <td>1.737641</td>\n",
       "    </tr>\n",
       "    <tr>\n",
       "      <th>2012-11-29</th>\n",
       "      <td>2.246000</td>\n",
       "      <td>1.384307</td>\n",
       "      <td>1.374813</td>\n",
       "      <td>0.647968</td>\n",
       "    </tr>\n",
       "    <tr>\n",
       "      <th>2012-11-30</th>\n",
       "      <td>2.254667</td>\n",
       "      <td>0.385886</td>\n",
       "      <td>0.385143</td>\n",
       "      <td>0.134838</td>\n",
       "    </tr>\n",
       "    <tr>\n",
       "      <th>...</th>\n",
       "      <td>...</td>\n",
       "      <td>...</td>\n",
       "      <td>...</td>\n",
       "      <td>...</td>\n",
       "    </tr>\n",
       "    <tr>\n",
       "      <th>2022-11-18</th>\n",
       "      <td>180.190002</td>\n",
       "      <td>-1.626902</td>\n",
       "      <td>-1.640281</td>\n",
       "      <td>-0.458074</td>\n",
       "    </tr>\n",
       "    <tr>\n",
       "      <th>2022-11-21</th>\n",
       "      <td>167.869995</td>\n",
       "      <td>-6.837231</td>\n",
       "      <td>-7.082202</td>\n",
       "      <td>-1.901933</td>\n",
       "    </tr>\n",
       "    <tr>\n",
       "      <th>2022-11-22</th>\n",
       "      <td>169.910004</td>\n",
       "      <td>1.215231</td>\n",
       "      <td>1.207907</td>\n",
       "      <td>0.271843</td>\n",
       "    </tr>\n",
       "    <tr>\n",
       "      <th>2022-11-23</th>\n",
       "      <td>183.199997</td>\n",
       "      <td>7.821784</td>\n",
       "      <td>7.530953</td>\n",
       "      <td>1.895977</td>\n",
       "    </tr>\n",
       "    <tr>\n",
       "      <th>2022-11-25</th>\n",
       "      <td>182.860001</td>\n",
       "      <td>-0.185587</td>\n",
       "      <td>-0.185760</td>\n",
       "      <td>-0.075630</td>\n",
       "    </tr>\n",
       "  </tbody>\n",
       "</table>\n",
       "<p>2519 rows × 4 columns</p>\n",
       "</div>"
      ],
      "text/plain": [
       "                  TSLA  simplereturn  logreturn  std_residuals\n",
       "Date                                                          \n",
       "2012-11-26    2.151333           NaN        NaN            NaN\n",
       "2012-11-27    2.143333     -0.371862  -0.372556      -0.270666\n",
       "2012-11-28    2.215333      3.359254   3.304064       1.737641\n",
       "2012-11-29    2.246000      1.384307   1.374813       0.647968\n",
       "2012-11-30    2.254667      0.385886   0.385143       0.134838\n",
       "...                ...           ...        ...            ...\n",
       "2022-11-18  180.190002     -1.626902  -1.640281      -0.458074\n",
       "2022-11-21  167.869995     -6.837231  -7.082202      -1.901933\n",
       "2022-11-22  169.910004      1.215231   1.207907       0.271843\n",
       "2022-11-23  183.199997      7.821784   7.530953       1.895977\n",
       "2022-11-25  182.860001     -0.185587  -0.185760      -0.075630\n",
       "\n",
       "[2519 rows x 4 columns]"
      ]
     },
     "execution_count": 110,
     "metadata": {},
     "output_type": "execute_result"
    }
   ],
   "source": [
    "TSLAdata['std_residuals'] = resgarch.std_resid\n",
    "TSLAdata"
   ]
  },
  {
   "cell_type": "code",
   "execution_count": 133,
   "id": "b7dd17d0",
   "metadata": {
    "scrolled": true
   },
   "outputs": [
    {
     "data": {
      "text/plain": [
       "Text(0.5, 0, '$v$')"
      ]
     },
     "execution_count": 133,
     "metadata": {},
     "output_type": "execute_result"
    },
    {
     "data": {
      "image/png": "[encoded data removed]",
      "text/plain": [
       "<Figure size 720x720 with 1 Axes>"
      ]
     },
     "metadata": {
      "needs_background": "light"
     },
     "output_type": "display_data"
    }
   ],
   "source": [
    "v = np.linspace(0, 6, 100) # some values of v\n",
    "excess_mean = []\n",
    "\n",
    "for vv in v:\n",
    "    excess_mean.append(np.sum((resgarch.std_resid - vv) * (resgarch.std_resid > vv)) / np.sum(resgarch.std_resid > vv))\n",
    "plt.figure(figsize = (10,10))\n",
    "plt.plot(v, excess_mean, 'g*')\n",
    "plt.title(\"Sample mean excess function\")\n",
    "plt.ylabel(\"$e_n(v)$\")\n",
    "plt.xlabel(\"$v$\")"
   ]
  },
  {
   "cell_type": "code",
   "execution_count": 134,
   "id": "5d5b7f47",
   "metadata": {
    "scrolled": false
   },
   "outputs": [
    {
     "name": "stdout",
     "output_type": "stream",
     "text": [
      "Date\n",
      "2012-11-28    0.537641\n",
      "2013-01-02    0.796832\n",
      "2013-01-24    0.010480\n",
      "2013-01-28    0.041818\n",
      "2013-02-19    1.389786\n",
      "                ...   \n",
      "2022-07-29    0.175277\n",
      "2022-10-17    0.551648\n",
      "2022-10-25    0.098821\n",
      "2022-11-10    0.593849\n",
      "2022-11-23    0.695977\n",
      "Name: std_residuals, Length: 212, dtype: float64\n"
     ]
    }
   ],
   "source": [
    "u = 1.2 # our choice of u\n",
    "y = TSLAdata[TSLAdata['std_residuals'] > u]['std_residuals'] - u # construction of y\n",
    "print(y)"
   ]
  },
  {
   "cell_type": "code",
   "execution_count": 135,
   "id": "eab47bfa",
   "metadata": {},
   "outputs": [
    {
     "name": "stdout",
     "output_type": "stream",
     "text": [
      "Initial objective function value: 187.7620915120299\n",
      "Optimization terminated successfully    (Exit mode 0)\n",
      "            Current function value: 130.49302078795068\n",
      "            Iterations: 13\n",
      "            Function evaluations: 48\n",
      "            Gradient evaluations: 13\n",
      "Estimate of xi: 0.20890417063263092\n",
      "Estimate of beta: 0.5524209788865124\n"
     ]
    },
    {
     "name": "stderr",
     "output_type": "stream",
     "text": [
      "C:\\Users\\Alberto\\AppData\\Local\\Temp/ipykernel_2164/2961284349.py:2: RuntimeWarning: divide by zero encountered in log\n",
      "  return -len(y) * np.log(beta) - (1 + 1/xi) * np.sum(np.log(1 + xi * y / beta))\n",
      "C:\\Users\\Alberto\\AppData\\Local\\Temp/ipykernel_2164/2961284349.py:2: RuntimeWarning: invalid value encountered in double_scalars\n",
      "  return -len(y) * np.log(beta) - (1 + 1/xi) * np.sum(np.log(1 + xi * y / beta))\n"
     ]
    }
   ],
   "source": [
    "def GPD_loglikelihood(y, xi, beta):\n",
    "    return -len(y) * np.log(beta) - (1 + 1/xi) * np.sum(np.log(1 + xi * y / beta))\n",
    "\n",
    "objfun = lambda theta : -1 * GPD_loglikelihood(y, theta[0], theta[1]) # theta[0] represents xi and theta[1] represents beta\n",
    "\n",
    "theta0 = [1, 1]  # initial guess\n",
    "print(\"Initial objective function value: \" + str(objfun(theta0)))\n",
    "\n",
    "bnds = ((0.01,20), (0,20)) # individual bound on each parameter\n",
    "\n",
    "sol = minimize(objfun,theta0,method='SLSQP',bounds=bnds, options={'disp': True})\n",
    "\n",
    "print(\"Estimate of xi: \" + str(sol.x[0]))\n",
    "print(\"Estimate of beta: \" + str(sol.x[1]))"
   ]
  },
  {
   "cell_type": "code",
   "execution_count": 136,
   "id": "827bd134",
   "metadata": {
    "scrolled": false
   },
   "outputs": [
    {
     "data": {
      "image/png": "[encoded data removed]",
      "text/plain": [
       "<Figure size 432x288 with 1 Axes>"
      ]
     },
     "metadata": {
      "needs_background": "light"
     },
     "output_type": "display_data"
    }
   ],
   "source": [
    "def GPD_cdf(x, xi, beta): # Implement the CDF of GPD\n",
    "    if xi == 0:\n",
    "        return 1 - np.exp(-x/beta)\n",
    "    else:\n",
    "        return 1 - (1 + xi * x / beta) ** (-1/xi)\n",
    "\n",
    "xx = np.linspace(0, 70, 10000) # For plotting the theoretical, fitted GPD\n",
    "\n",
    "# Empirical CDF functionality from the \"statsmodels\" package\n",
    "empirical_cdf_obj = sm.distributions.empirical_distribution.ECDF((y.to_numpy()).flatten()) \n",
    "\n",
    "fig, ax = plt.subplots()\n",
    "ax.plot(xx, GPD_cdf(xx, sol.x[0], sol.x[1]), 'k-', label='Fitted') # Plot the CDF of fitted GPD\n",
    "ax.plot(y, empirical_cdf_obj(y), 'b*', label='Empirical') # Plot the empirical CDF of Y, the excess claim value above u\n",
    "ax.legend()\n",
    "ax.set_xscale('log')\n",
    "ax.set_title('Empirical vs fitted CDF of the excess distribution')\n",
    "ax.set_ylabel('$F_{u}(x-u)$')\n",
    "ax.set_xlabel('$x$')\n",
    "plt.show()"
   ]
  },
  {
   "cell_type": "markdown",
   "id": "b1cd3884",
   "metadata": {},
   "source": [
    "### Q1 part D: computing VaR and ES forecasts."
   ]
  },
  {
   "cell_type": "markdown",
   "id": "fd4f911f",
   "metadata": {},
   "source": [
    "Compute several sets of VaR and ES forecast on each date in the testing data\n",
    "set at 95% and 99% confidence levels, based on the following different specifications\n",
    "of the strict white noise component Z in the GARCH(1,1)model: \\ \\\n",
    "I Z follows a standard normal distribution; \\ \\\n",
    "I Z follows a normalised Student t distribution; \\ \\\n",
    "I Z is such that its excess distribution (over u) is described by GPD. \\ \\\n",
    "Describe clearly how you compute the VaR and ES under each specification.\n",
    "Display the risk forecasts graphically. Backtest the VaR forecasts by considering\n",
    "unconditional coverage tests only and compare the results under different\n",
    "specifications."
   ]
  }
 ],
 "metadata": {
  "kernelspec": {
   "display_name": "Python 3 (ipykernel)",
   "language": "python",
   "name": "python3"
  },
  "language_info": {
   "codemirror_mode": {
    "name": "ipython",
    "version": 3
   },
   "file_extension": ".py",
   "mimetype": "text/x-python",
   "name": "python",
   "nbconvert_exporter": "python",
   "pygments_lexer": "ipython3",
   "version": "3.9.7"
  }
 },
 "nbformat": 4,
 "nbformat_minor": 5
}
